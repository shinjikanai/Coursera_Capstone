{
    "nbformat_minor": 1, 
    "cells": [
        {
            "source": "# install Beautiful Soup", 
            "cell_type": "markdown", 
            "metadata": {}
        }, 
        {
            "execution_count": 2, 
            "cell_type": "code", 
            "metadata": {}, 
            "outputs": [
                {
                    "output_type": "stream", 
                    "name": "stdout", 
                    "text": "Requirement not upgraded as not directly required: beautifulsoup4 in /opt/conda/envs/DSX-Python35/lib/python3.5/site-packages\r\n"
                }
            ], 
            "source": "!pip install beautifulsoup4"
        }, 
        {
            "source": "# create dataframe based from wikipage", 
            "cell_type": "markdown", 
            "metadata": {}
        }, 
        {
            "execution_count": 6, 
            "cell_type": "code", 
            "metadata": {}, 
            "outputs": [], 
            "source": "import requests\nimport pandas as pd\nimport numpy as np\nfrom bs4 import SoupStrainer\nfrom bs4 import BeautifulSoup\n\nurl = \"https://en.wikipedia.org/wiki/List_of_postal_codes_of_Canada:_M\"\npage =requests.get(url)\nsoup = BeautifulSoup(page.content,'html.parser')\n\nmy_df = pd.DataFrame(columns=('PostalCode', 'Borough', 'Neighbourhood'))\n\ntables = soup.find_all('table', class_='sortable')\n\n# Search through the tables for the one with the headings we want.\nfor table in tables:\n    ths = table.find_all('th')\n    headings = [th.text.strip() for th in ths]\n    if headings[:5] == ['PostCode','Borough','Neighbourhood']:\n        break\n        \n# Extract the columns we want and write to dataframe.\nfor tr in table.find_all('tr'):\n    tds = tr.find_all('td')\n    if not tds:\n        continue\n    postcode, borough, neighbour = [td.text.strip() for td in tds[:3]]\n    my_df = my_df.append({'Postal Code': postcode, 'Borough':borough, 'Neighbourhood':neighbour}, ignore_index=True)\n    my_df = my_df[my_df['Borough']!=\"Not assigned\"]\n    #print(postcode,borough, neighbour)\n"
        }, 
        {
            "source": "# clean up data according to assignment requirements", 
            "cell_type": "markdown", 
            "metadata": {}
        }, 
        {
            "execution_count": 7, 
            "cell_type": "code", 
            "metadata": {}, 
            "outputs": [
                {
                    "output_type": "stream", 
                    "name": "stdout", 
                    "text": "(212, 4)\n(103, 3)\n"
                }
            ], 
            "source": "print(my_df.shape)\nmy_df=my_df.groupby(['Postal Code','Borough'])['Neighbourhood'].apply(\", \".join)\nmy_df=my_df.reset_index(name ='Neighbourhood')\nmy_df.loc[my_df['Neighbourhood']==\"Not assigned\",['Neighbourhood']]=my_df['Borough']\nprint(my_df.shape)"
        }, 
        {
            "execution_count": 8, 
            "cell_type": "code", 
            "metadata": {}, 
            "outputs": [
                {
                    "execution_count": 8, 
                    "metadata": {}, 
                    "data": {
                        "text/plain": "(103, 3)"
                    }, 
                    "output_type": "execute_result"
                }
            ], 
            "source": "my_df.shape"
        }, 
        {
            "execution_count": null, 
            "cell_type": "code", 
            "metadata": {}, 
            "outputs": [], 
            "source": "# Import P"
        }, 
        {
            "execution_count": null, 
            "cell_type": "code", 
            "metadata": {}, 
            "outputs": [], 
            "source": "# The code was removed by Watson Studio for sharing."
        }, 
        {
            "execution_count": null, 
            "cell_type": "code", 
            "metadata": {}, 
            "outputs": [], 
            "source": "df_data_1 = pd.read_csv(body)\ndf_data_1.head()\n\nresult = pd.merge(my_df, df_data_1, on='Postal Code')\nresult"
        }, 
        {
            "execution_count": null, 
            "cell_type": "code", 
            "metadata": {}, 
            "outputs": [], 
            "source": ""
        }, 
        {
            "execution_count": null, 
            "cell_type": "code", 
            "metadata": {}, 
            "outputs": [], 
            "source": ""
        }
    ], 
    "metadata": {
        "kernelspec": {
            "display_name": "Python 3.5", 
            "name": "python3", 
            "language": "python"
        }, 
        "language_info": {
            "mimetype": "text/x-python", 
            "nbconvert_exporter": "python", 
            "version": "3.5.5", 
            "name": "python", 
            "file_extension": ".py", 
            "pygments_lexer": "ipython3", 
            "codemirror_mode": {
                "version": 3, 
                "name": "ipython"
            }
        }
    }, 
    "nbformat": 4
}